{
 "cells": [
  {
   "cell_type": "code",
   "execution_count": null,
   "metadata": {},
   "outputs": [],
   "source": [
    "import os\n",
    "import re"
   ]
  },
  {
   "cell_type": "code",
   "execution_count": null,
   "metadata": {},
   "outputs": [],
   "source": [
    "\n",
    "def rename_tif_files(directory):\n",
    "    # List all files in the directory\n",
    "    files = os.listdir(directory)\n",
    "    \n",
    "    # Regular expression pattern to extract parts of the original name\n",
    "    pattern = r'IXMtest_(?P<Well>[A-P]{1}[0-9]{2})_s(?P<Site>[0-9])_w(?P<ChannelNumber>[0-9]).*.tiff'  # Adjust pattern as per your filenames\n",
    "    \n",
    "    for file in files:\n",
    "        if file.endswith('.tiff'):\n",
    "            original_name = os.path.join(directory, file)\n",
    "            match = re.match(pattern, file)\n",
    "\n",
    "            if match:\n",
    "                Well = match.group(1)  # Extract part 1 from original name\n",
    "                Site = match.group(2)  # Extract part 2 from original name\n",
    "                Channel = match.group(3)  # Extract part 3 from original name\n",
    "                \n",
    "                # Create new name\n",
    "                new_name = f\"20230712_{Well}_site{Site}_Ch{Channel}.tif\"  # Adjust new name format as per your requirement\n",
    "                \n",
    "                # Rename the file\n",
    "                os.rename(original_name, os.path.join(directory,'renamed', new_name))\n",
    "                print(f\"Renamed {original_name} to {new_name}\")\n",
    "            else:\n",
    "                print(f\"Could not match pattern for {original_name}\")\n"
   ]
  },
  {
   "cell_type": "code",
   "execution_count": null,
   "metadata": {},
   "outputs": [],
   "source": [
    "\n",
    "# Specify the directory containing the .tif files\n",
    "directory_path = \"/Users/emigliet/Documents/GitHub/CellProfiler-tutorials/BeginnerSegmentation_Simplified/images_Illum-corrected\"\n",
    "\n",
    "# Call the function to rename .tif files in the specified directory\n",
    "rename_tif_files(directory_path)\n"
   ]
  }
 ],
 "metadata": {
  "kernelspec": {
   "display_name": "jupyter",
   "language": "python",
   "name": "python3"
  },
  "language_info": {
   "codemirror_mode": {
    "name": "ipython",
    "version": 3
   },
   "file_extension": ".py",
   "mimetype": "text/x-python",
   "name": "python",
   "nbconvert_exporter": "python",
   "pygments_lexer": "ipython3",
   "version": "3.8.18"
  }
 },
 "nbformat": 4,
 "nbformat_minor": 2
}
