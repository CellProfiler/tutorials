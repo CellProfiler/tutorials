{
 "cells": [
  {
   "cell_type": "code",
   "execution_count": 1,
   "metadata": {},
   "outputs": [],
   "source": [
    "import os\n",
    "import re"
   ]
  },
  {
   "cell_type": "code",
   "execution_count": 2,
   "metadata": {},
   "outputs": [],
   "source": [
    "\n",
    "def rename_tif_files(directory):\n",
    "    # List all files in the directory\n",
    "    files = os.listdir(directory)\n",
    "    \n",
    "    # Regular expression pattern to extract parts of the original name\n",
    "    pattern = r'IXMtest_(?P<Well>[A-P]{1}[0-9]{2})_s(?P<Site>[0-9])_w(?P<ChannelNumber>[0-9]).*.tiff'  # Adjust pattern as per your filenames\n",
    "    \n",
    "    for file in files:\n",
    "        if file.endswith('.tiff'):\n",
    "            original_name = os.path.join(directory, file)\n",
    "            match = re.match(pattern, file)\n",
    "\n",
    "            if match:\n",
    "                Well = match.group(1)  # Extract part 1 from original name\n",
    "                Site = match.group(2)  # Extract part 2 from original name\n",
    "                Channel = match.group(3)  # Extract part 3 from original name\n",
    "                \n",
    "                # Create new name\n",
    "                new_name = f\"20230712_{Well}_site{Site}_Ch{Channel}.tif\"  # Adjust new name format as per your requirement\n",
    "                \n",
    "                # Rename the file\n",
    "                os.rename(original_name, os.path.join(directory,'renamed', new_name))\n",
    "                print(f\"Renamed {original_name} to {new_name}\")\n",
    "            else:\n",
    "                print(f\"Could not match pattern for {original_name}\")\n"
   ]
  },
  {
   "cell_type": "code",
   "execution_count": 12,
   "metadata": {},
   "outputs": [],
   "source": [
    "\n",
    "# Specify the directory containing the .tif files\n",
    "directory_path = \"/Users/emigliet/Documents/GitHub/CellProfiler-tutorials/BeginnerSegmentation_Simplified/images_Illum-corrected\"\n",
    "\n",
    "# Call the function to rename .tif files in the specified directory\n",
    "rename_tif_files(directory_path)\n"
   ]
  },
  {
   "cell_type": "markdown",
   "metadata": {},
   "source": [
    "To replace the date with Plate:"
   ]
  },
  {
   "cell_type": "code",
   "execution_count": 13,
   "metadata": {},
   "outputs": [
    {
     "name": "stdout",
     "output_type": "stream",
     "text": [
      "Renamed /Users/emigliet/Documents/GitHub/CellProfiler-tutorials/BeginnerSegmentation_Simplified/images_Illum-corrected/20230712_A14_site1_Ch4.tif to /Users/emigliet/Documents/GitHub/CellProfiler-tutorials/BeginnerSegmentation_Simplified/images_Illum-corrected/plate1_A14_site1_Ch4.tif\n",
      "Renamed /Users/emigliet/Documents/GitHub/CellProfiler-tutorials/BeginnerSegmentation_Simplified/images_Illum-corrected/20230712_D16_site1_Ch3.tif to /Users/emigliet/Documents/GitHub/CellProfiler-tutorials/BeginnerSegmentation_Simplified/images_Illum-corrected/plate1_D16_site1_Ch3.tif\n",
      "Renamed /Users/emigliet/Documents/GitHub/CellProfiler-tutorials/BeginnerSegmentation_Simplified/images_Illum-corrected/20230712_D16_site1_Ch2.tif to /Users/emigliet/Documents/GitHub/CellProfiler-tutorials/BeginnerSegmentation_Simplified/images_Illum-corrected/plate1_D16_site1_Ch2.tif\n",
      "Renamed /Users/emigliet/Documents/GitHub/CellProfiler-tutorials/BeginnerSegmentation_Simplified/images_Illum-corrected/20230712_A14_site1_Ch5.tif to /Users/emigliet/Documents/GitHub/CellProfiler-tutorials/BeginnerSegmentation_Simplified/images_Illum-corrected/plate1_A14_site1_Ch5.tif\n",
      "Renamed /Users/emigliet/Documents/GitHub/CellProfiler-tutorials/BeginnerSegmentation_Simplified/images_Illum-corrected/20230712_E18_site1_Ch1.tif to /Users/emigliet/Documents/GitHub/CellProfiler-tutorials/BeginnerSegmentation_Simplified/images_Illum-corrected/plate1_E18_site1_Ch1.tif\n",
      "Renamed /Users/emigliet/Documents/GitHub/CellProfiler-tutorials/BeginnerSegmentation_Simplified/images_Illum-corrected/20230712_C12_site1_Ch5.tif to /Users/emigliet/Documents/GitHub/CellProfiler-tutorials/BeginnerSegmentation_Simplified/images_Illum-corrected/plate1_C12_site1_Ch5.tif\n",
      "Renamed /Users/emigliet/Documents/GitHub/CellProfiler-tutorials/BeginnerSegmentation_Simplified/images_Illum-corrected/20230712_E18_site1_Ch3.tif to /Users/emigliet/Documents/GitHub/CellProfiler-tutorials/BeginnerSegmentation_Simplified/images_Illum-corrected/plate1_E18_site1_Ch3.tif\n",
      "Renamed /Users/emigliet/Documents/GitHub/CellProfiler-tutorials/BeginnerSegmentation_Simplified/images_Illum-corrected/20230712_D16_site1_Ch1.tif to /Users/emigliet/Documents/GitHub/CellProfiler-tutorials/BeginnerSegmentation_Simplified/images_Illum-corrected/plate1_D16_site1_Ch1.tif\n",
      "Renamed /Users/emigliet/Documents/GitHub/CellProfiler-tutorials/BeginnerSegmentation_Simplified/images_Illum-corrected/20230712_E18_site1_Ch2.tif to /Users/emigliet/Documents/GitHub/CellProfiler-tutorials/BeginnerSegmentation_Simplified/images_Illum-corrected/plate1_E18_site1_Ch2.tif\n",
      "Renamed /Users/emigliet/Documents/GitHub/CellProfiler-tutorials/BeginnerSegmentation_Simplified/images_Illum-corrected/20230712_C12_site1_Ch4.tif to /Users/emigliet/Documents/GitHub/CellProfiler-tutorials/BeginnerSegmentation_Simplified/images_Illum-corrected/plate1_C12_site1_Ch4.tif\n",
      "Renamed /Users/emigliet/Documents/GitHub/CellProfiler-tutorials/BeginnerSegmentation_Simplified/images_Illum-corrected/20230712_A14_site1_Ch2.tif to /Users/emigliet/Documents/GitHub/CellProfiler-tutorials/BeginnerSegmentation_Simplified/images_Illum-corrected/plate1_A14_site1_Ch2.tif\n",
      "Renamed /Users/emigliet/Documents/GitHub/CellProfiler-tutorials/BeginnerSegmentation_Simplified/images_Illum-corrected/20230712_D16_site1_Ch5.tif to /Users/emigliet/Documents/GitHub/CellProfiler-tutorials/BeginnerSegmentation_Simplified/images_Illum-corrected/plate1_D16_site1_Ch5.tif\n",
      "Renamed /Users/emigliet/Documents/GitHub/CellProfiler-tutorials/BeginnerSegmentation_Simplified/images_Illum-corrected/20230712_D16_site1_Ch4.tif to /Users/emigliet/Documents/GitHub/CellProfiler-tutorials/BeginnerSegmentation_Simplified/images_Illum-corrected/plate1_D16_site1_Ch4.tif\n",
      "Renamed /Users/emigliet/Documents/GitHub/CellProfiler-tutorials/BeginnerSegmentation_Simplified/images_Illum-corrected/20230712_A14_site1_Ch3.tif to /Users/emigliet/Documents/GitHub/CellProfiler-tutorials/BeginnerSegmentation_Simplified/images_Illum-corrected/plate1_A14_site1_Ch3.tif\n",
      "Renamed /Users/emigliet/Documents/GitHub/CellProfiler-tutorials/BeginnerSegmentation_Simplified/images_Illum-corrected/20230712_C12_site1_Ch1.tif to /Users/emigliet/Documents/GitHub/CellProfiler-tutorials/BeginnerSegmentation_Simplified/images_Illum-corrected/plate1_C12_site1_Ch1.tif\n",
      "Renamed /Users/emigliet/Documents/GitHub/CellProfiler-tutorials/BeginnerSegmentation_Simplified/images_Illum-corrected/20230712_E18_site1_Ch5.tif to /Users/emigliet/Documents/GitHub/CellProfiler-tutorials/BeginnerSegmentation_Simplified/images_Illum-corrected/plate1_E18_site1_Ch5.tif\n",
      "Renamed /Users/emigliet/Documents/GitHub/CellProfiler-tutorials/BeginnerSegmentation_Simplified/images_Illum-corrected/20230712_C12_site1_Ch3.tif to /Users/emigliet/Documents/GitHub/CellProfiler-tutorials/BeginnerSegmentation_Simplified/images_Illum-corrected/plate1_C12_site1_Ch3.tif\n",
      "Renamed /Users/emigliet/Documents/GitHub/CellProfiler-tutorials/BeginnerSegmentation_Simplified/images_Illum-corrected/20230712_A14_site1_Ch1.tif to /Users/emigliet/Documents/GitHub/CellProfiler-tutorials/BeginnerSegmentation_Simplified/images_Illum-corrected/plate1_A14_site1_Ch1.tif\n",
      "Renamed /Users/emigliet/Documents/GitHub/CellProfiler-tutorials/BeginnerSegmentation_Simplified/images_Illum-corrected/20230712_C12_site1_Ch2.tif to /Users/emigliet/Documents/GitHub/CellProfiler-tutorials/BeginnerSegmentation_Simplified/images_Illum-corrected/plate1_C12_site1_Ch2.tif\n",
      "Renamed /Users/emigliet/Documents/GitHub/CellProfiler-tutorials/BeginnerSegmentation_Simplified/images_Illum-corrected/20230712_E18_site1_Ch4.tif to /Users/emigliet/Documents/GitHub/CellProfiler-tutorials/BeginnerSegmentation_Simplified/images_Illum-corrected/plate1_E18_site1_Ch4.tif\n",
      "Renamed /Users/emigliet/Documents/GitHub/CellProfiler-tutorials/BeginnerSegmentation_Simplified/images_Illum-corrected/20230712_C12_site2_Ch5.tif to /Users/emigliet/Documents/GitHub/CellProfiler-tutorials/BeginnerSegmentation_Simplified/images_Illum-corrected/plate1_C12_site2_Ch5.tif\n",
      "Renamed /Users/emigliet/Documents/GitHub/CellProfiler-tutorials/BeginnerSegmentation_Simplified/images_Illum-corrected/20230712_E18_site2_Ch3.tif to /Users/emigliet/Documents/GitHub/CellProfiler-tutorials/BeginnerSegmentation_Simplified/images_Illum-corrected/plate1_E18_site2_Ch3.tif\n",
      "Renamed /Users/emigliet/Documents/GitHub/CellProfiler-tutorials/BeginnerSegmentation_Simplified/images_Illum-corrected/20230712_E18_site2_Ch2.tif to /Users/emigliet/Documents/GitHub/CellProfiler-tutorials/BeginnerSegmentation_Simplified/images_Illum-corrected/plate1_E18_site2_Ch2.tif\n",
      "Renamed /Users/emigliet/Documents/GitHub/CellProfiler-tutorials/BeginnerSegmentation_Simplified/images_Illum-corrected/20230712_C12_site2_Ch4.tif to /Users/emigliet/Documents/GitHub/CellProfiler-tutorials/BeginnerSegmentation_Simplified/images_Illum-corrected/plate1_C12_site2_Ch4.tif\n",
      "Renamed /Users/emigliet/Documents/GitHub/CellProfiler-tutorials/BeginnerSegmentation_Simplified/images_Illum-corrected/20230712_D16_site2_Ch1.tif to /Users/emigliet/Documents/GitHub/CellProfiler-tutorials/BeginnerSegmentation_Simplified/images_Illum-corrected/plate1_D16_site2_Ch1.tif\n",
      "Renamed /Users/emigliet/Documents/GitHub/CellProfiler-tutorials/BeginnerSegmentation_Simplified/images_Illum-corrected/20230712_D16_site2_Ch3.tif to /Users/emigliet/Documents/GitHub/CellProfiler-tutorials/BeginnerSegmentation_Simplified/images_Illum-corrected/plate1_D16_site2_Ch3.tif\n",
      "Renamed /Users/emigliet/Documents/GitHub/CellProfiler-tutorials/BeginnerSegmentation_Simplified/images_Illum-corrected/20230712_A14_site2_Ch4.tif to /Users/emigliet/Documents/GitHub/CellProfiler-tutorials/BeginnerSegmentation_Simplified/images_Illum-corrected/plate1_A14_site2_Ch4.tif\n",
      "Renamed /Users/emigliet/Documents/GitHub/CellProfiler-tutorials/BeginnerSegmentation_Simplified/images_Illum-corrected/20230712_A14_site2_Ch5.tif to /Users/emigliet/Documents/GitHub/CellProfiler-tutorials/BeginnerSegmentation_Simplified/images_Illum-corrected/plate1_A14_site2_Ch5.tif\n",
      "Renamed /Users/emigliet/Documents/GitHub/CellProfiler-tutorials/BeginnerSegmentation_Simplified/images_Illum-corrected/20230712_E18_site2_Ch1.tif to /Users/emigliet/Documents/GitHub/CellProfiler-tutorials/BeginnerSegmentation_Simplified/images_Illum-corrected/plate1_E18_site2_Ch1.tif\n",
      "Renamed /Users/emigliet/Documents/GitHub/CellProfiler-tutorials/BeginnerSegmentation_Simplified/images_Illum-corrected/20230712_D16_site2_Ch2.tif to /Users/emigliet/Documents/GitHub/CellProfiler-tutorials/BeginnerSegmentation_Simplified/images_Illum-corrected/plate1_D16_site2_Ch2.tif\n",
      "Renamed /Users/emigliet/Documents/GitHub/CellProfiler-tutorials/BeginnerSegmentation_Simplified/images_Illum-corrected/20230712_E18_site2_Ch5.tif to /Users/emigliet/Documents/GitHub/CellProfiler-tutorials/BeginnerSegmentation_Simplified/images_Illum-corrected/plate1_E18_site2_Ch5.tif\n",
      "Renamed /Users/emigliet/Documents/GitHub/CellProfiler-tutorials/BeginnerSegmentation_Simplified/images_Illum-corrected/20230712_A14_site2_Ch1.tif to /Users/emigliet/Documents/GitHub/CellProfiler-tutorials/BeginnerSegmentation_Simplified/images_Illum-corrected/plate1_A14_site2_Ch1.tif\n",
      "Renamed /Users/emigliet/Documents/GitHub/CellProfiler-tutorials/BeginnerSegmentation_Simplified/images_Illum-corrected/20230712_C12_site2_Ch3.tif to /Users/emigliet/Documents/GitHub/CellProfiler-tutorials/BeginnerSegmentation_Simplified/images_Illum-corrected/plate1_C12_site2_Ch3.tif\n",
      "Renamed /Users/emigliet/Documents/GitHub/CellProfiler-tutorials/BeginnerSegmentation_Simplified/images_Illum-corrected/20230712_C12_site2_Ch2.tif to /Users/emigliet/Documents/GitHub/CellProfiler-tutorials/BeginnerSegmentation_Simplified/images_Illum-corrected/plate1_C12_site2_Ch2.tif\n",
      "Renamed /Users/emigliet/Documents/GitHub/CellProfiler-tutorials/BeginnerSegmentation_Simplified/images_Illum-corrected/20230712_E18_site2_Ch4.tif to /Users/emigliet/Documents/GitHub/CellProfiler-tutorials/BeginnerSegmentation_Simplified/images_Illum-corrected/plate1_E18_site2_Ch4.tif\n",
      "Renamed /Users/emigliet/Documents/GitHub/CellProfiler-tutorials/BeginnerSegmentation_Simplified/images_Illum-corrected/20230712_D16_site2_Ch5.tif to /Users/emigliet/Documents/GitHub/CellProfiler-tutorials/BeginnerSegmentation_Simplified/images_Illum-corrected/plate1_D16_site2_Ch5.tif\n",
      "Renamed /Users/emigliet/Documents/GitHub/CellProfiler-tutorials/BeginnerSegmentation_Simplified/images_Illum-corrected/20230712_A14_site2_Ch2.tif to /Users/emigliet/Documents/GitHub/CellProfiler-tutorials/BeginnerSegmentation_Simplified/images_Illum-corrected/plate1_A14_site2_Ch2.tif\n",
      "Renamed /Users/emigliet/Documents/GitHub/CellProfiler-tutorials/BeginnerSegmentation_Simplified/images_Illum-corrected/20230712_C12_site2_Ch1.tif to /Users/emigliet/Documents/GitHub/CellProfiler-tutorials/BeginnerSegmentation_Simplified/images_Illum-corrected/plate1_C12_site2_Ch1.tif\n",
      "Renamed /Users/emigliet/Documents/GitHub/CellProfiler-tutorials/BeginnerSegmentation_Simplified/images_Illum-corrected/20230712_A14_site2_Ch3.tif to /Users/emigliet/Documents/GitHub/CellProfiler-tutorials/BeginnerSegmentation_Simplified/images_Illum-corrected/plate1_A14_site2_Ch3.tif\n",
      "Renamed /Users/emigliet/Documents/GitHub/CellProfiler-tutorials/BeginnerSegmentation_Simplified/images_Illum-corrected/20230712_D16_site2_Ch4.tif to /Users/emigliet/Documents/GitHub/CellProfiler-tutorials/BeginnerSegmentation_Simplified/images_Illum-corrected/plate1_D16_site2_Ch4.tif\n",
      "Renamed /Users/emigliet/Documents/GitHub/CellProfiler-tutorials/BeginnerSegmentation_Simplified/images_Illum-corrected/20230712_B13_site1_Ch4.tif to /Users/emigliet/Documents/GitHub/CellProfiler-tutorials/BeginnerSegmentation_Simplified/images_Illum-corrected/plate1_B13_site1_Ch4.tif\n",
      "Renamed /Users/emigliet/Documents/GitHub/CellProfiler-tutorials/BeginnerSegmentation_Simplified/images_Illum-corrected/20230712_B13_site1_Ch5.tif to /Users/emigliet/Documents/GitHub/CellProfiler-tutorials/BeginnerSegmentation_Simplified/images_Illum-corrected/plate1_B13_site1_Ch5.tif\n",
      "Renamed /Users/emigliet/Documents/GitHub/CellProfiler-tutorials/BeginnerSegmentation_Simplified/images_Illum-corrected/20230712_B13_site1_Ch1.tif to /Users/emigliet/Documents/GitHub/CellProfiler-tutorials/BeginnerSegmentation_Simplified/images_Illum-corrected/plate1_B13_site1_Ch1.tif\n",
      "Renamed /Users/emigliet/Documents/GitHub/CellProfiler-tutorials/BeginnerSegmentation_Simplified/images_Illum-corrected/20230712_B13_site1_Ch2.tif to /Users/emigliet/Documents/GitHub/CellProfiler-tutorials/BeginnerSegmentation_Simplified/images_Illum-corrected/plate1_B13_site1_Ch2.tif\n",
      "Renamed /Users/emigliet/Documents/GitHub/CellProfiler-tutorials/BeginnerSegmentation_Simplified/images_Illum-corrected/20230712_B13_site1_Ch3.tif to /Users/emigliet/Documents/GitHub/CellProfiler-tutorials/BeginnerSegmentation_Simplified/images_Illum-corrected/plate1_B13_site1_Ch3.tif\n",
      "Renamed /Users/emigliet/Documents/GitHub/CellProfiler-tutorials/BeginnerSegmentation_Simplified/images_Illum-corrected/20230712_B13_site2_Ch4.tif to /Users/emigliet/Documents/GitHub/CellProfiler-tutorials/BeginnerSegmentation_Simplified/images_Illum-corrected/plate1_B13_site2_Ch4.tif\n",
      "Renamed /Users/emigliet/Documents/GitHub/CellProfiler-tutorials/BeginnerSegmentation_Simplified/images_Illum-corrected/20230712_B13_site2_Ch5.tif to /Users/emigliet/Documents/GitHub/CellProfiler-tutorials/BeginnerSegmentation_Simplified/images_Illum-corrected/plate1_B13_site2_Ch5.tif\n",
      "Renamed /Users/emigliet/Documents/GitHub/CellProfiler-tutorials/BeginnerSegmentation_Simplified/images_Illum-corrected/20230712_B13_site2_Ch2.tif to /Users/emigliet/Documents/GitHub/CellProfiler-tutorials/BeginnerSegmentation_Simplified/images_Illum-corrected/plate1_B13_site2_Ch2.tif\n",
      "Renamed /Users/emigliet/Documents/GitHub/CellProfiler-tutorials/BeginnerSegmentation_Simplified/images_Illum-corrected/20230712_B13_site2_Ch3.tif to /Users/emigliet/Documents/GitHub/CellProfiler-tutorials/BeginnerSegmentation_Simplified/images_Illum-corrected/plate1_B13_site2_Ch3.tif\n",
      "Renamed /Users/emigliet/Documents/GitHub/CellProfiler-tutorials/BeginnerSegmentation_Simplified/images_Illum-corrected/20230712_B13_site2_Ch1.tif to /Users/emigliet/Documents/GitHub/CellProfiler-tutorials/BeginnerSegmentation_Simplified/images_Illum-corrected/plate1_B13_site2_Ch1.tif\n"
     ]
    }
   ],
   "source": [
    "import os\n",
    "import glob\n",
    "\n",
    "# Path to the folder containing the .tif files\n",
    "folder_path = \"/Users/emigliet/Documents/GitHub/CellProfiler-tutorials/BeginnerSegmentation_Simplified/images_Illum-corrected\"\n",
    "\n",
    "# Iterate through all .tif files in the folder\n",
    "for filename in glob.glob(os.path.join(folder_path, '*.tif')):\n",
    "    # Get the original filename without the path\n",
    "    _, file = os.path.split(filename)\n",
    "    \n",
    "    # Construct the new filename\n",
    "    new_filename = os.path.join(folder_path, 'plate1' + file[8:])\n",
    "    \n",
    "    # Rename the file\n",
    "    os.rename(filename, new_filename)\n",
    "    print(f\"Renamed {filename} to {new_filename}\")"
   ]
  },
  {
   "cell_type": "code",
   "execution_count": null,
   "metadata": {},
   "outputs": [],
   "source": []
  }
 ],
 "metadata": {
  "kernelspec": {
   "display_name": "jupyter",
   "language": "python",
   "name": "python3"
  },
  "language_info": {
   "codemirror_mode": {
    "name": "ipython",
    "version": 3
   },
   "file_extension": ".py",
   "mimetype": "text/x-python",
   "name": "python",
   "nbconvert_exporter": "python",
   "pygments_lexer": "ipython3",
   "version": "3.11.8"
  }
 },
 "nbformat": 4,
 "nbformat_minor": 2
}
